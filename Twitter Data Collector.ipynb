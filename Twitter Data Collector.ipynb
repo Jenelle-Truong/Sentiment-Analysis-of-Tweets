{
 "cells": [
  {
   "cell_type": "code",
   "execution_count": 6,
   "metadata": {},
   "outputs": [],
   "source": [
    "import os\n",
    "import pandas as pd\n",
    "import tweepy as tw\n",
    "from dotenv import load_dotenv"
   ]
  },
  {
   "cell_type": "code",
   "execution_count": 4,
   "metadata": {},
   "outputs": [],
   "source": [
    "load_dotenv()\n",
    "consumer_key = os.getenv('CONSUMER_KEY')\n",
    "consumer_secret = os.getenv('CONSUMER_SECRET')\n",
    "access_token = os.getenv('ACCESS_TOKEN')\n",
    "access_secret = os.getenv('ACCESS_SECRET')"
   ]
  },
  {
   "cell_type": "code",
   "execution_count": 5,
   "metadata": {},
   "outputs": [],
   "source": [
    "auth = tw.OAuthHandler(consumer_key, consumer_secret)\n",
    "auth.set_access_token(access_token, access_secret)\n",
    "api = tw.API(auth)"
   ]
  },
  {
   "cell_type": "code",
   "execution_count": 15,
   "metadata": {
    "scrolled": true
   },
   "outputs": [
    {
     "data": {
      "text/html": [
       "<div>\n",
       "<style scoped>\n",
       "    .dataframe tbody tr th:only-of-type {\n",
       "        vertical-align: middle;\n",
       "    }\n",
       "\n",
       "    .dataframe tbody tr th {\n",
       "        vertical-align: top;\n",
       "    }\n",
       "\n",
       "    .dataframe thead th {\n",
       "        text-align: right;\n",
       "    }\n",
       "</style>\n",
       "<table border=\"1\" class=\"dataframe\">\n",
       "  <thead>\n",
       "    <tr style=\"text-align: right;\">\n",
       "      <th></th>\n",
       "      <th>tweet content</th>\n",
       "      <th>tweet sentiment</th>\n",
       "    </tr>\n",
       "  </thead>\n",
       "  <tbody>\n",
       "    <tr>\n",
       "      <th>0</th>\n",
       "      <td>wear a mask :(</td>\n",
       "      <td>negative</td>\n",
       "    </tr>\n",
       "    <tr>\n",
       "      <th>1</th>\n",
       "      <td>Oh no won’t some big brave anti mask protester...</td>\n",
       "      <td>negative</td>\n",
       "    </tr>\n",
       "    <tr>\n",
       "      <th>2</th>\n",
       "      <td>wear ur DAMN MASK OUTSIDE!!!!! that includes p...</td>\n",
       "      <td>negative</td>\n",
       "    </tr>\n",
       "    <tr>\n",
       "      <th>3</th>\n",
       "      <td>@Jeannie29670552 @pastaroni3 @greeneyesone @ia...</td>\n",
       "      <td>negative</td>\n",
       "    </tr>\n",
       "    <tr>\n",
       "      <th>4</th>\n",
       "      <td>@jordynpog if kookie can wear a mask, then so ...</td>\n",
       "      <td>negative</td>\n",
       "    </tr>\n",
       "    <tr>\n",
       "      <th>...</th>\n",
       "      <td>...</td>\n",
       "      <td>...</td>\n",
       "    </tr>\n",
       "    <tr>\n",
       "      <th>395</th>\n",
       "      <td>ready for this mask shit to be over, i keep br...</td>\n",
       "      <td>negative</td>\n",
       "    </tr>\n",
       "    <tr>\n",
       "      <th>396</th>\n",
       "      <td>Thinking about trying minoxidil again but it's...</td>\n",
       "      <td>negative</td>\n",
       "    </tr>\n",
       "    <tr>\n",
       "      <th>397</th>\n",
       "      <td>@NicholasFerroni Mask and personal pen spray o...</td>\n",
       "      <td>negative</td>\n",
       "    </tr>\n",
       "    <tr>\n",
       "      <th>398</th>\n",
       "      <td>I was gonna buy this really cute dress, but wh...</td>\n",
       "      <td>negative</td>\n",
       "    </tr>\n",
       "    <tr>\n",
       "      <th>399</th>\n",
       "      <td>Tomorrow a lot of Minnesotans would also be at...</td>\n",
       "      <td>negative</td>\n",
       "    </tr>\n",
       "  </tbody>\n",
       "</table>\n",
       "<p>400 rows × 2 columns</p>\n",
       "</div>"
      ],
      "text/plain": [
       "                                         tweet content tweet sentiment\n",
       "0                                       wear a mask :(        negative\n",
       "1    Oh no won’t some big brave anti mask protester...        negative\n",
       "2    wear ur DAMN MASK OUTSIDE!!!!! that includes p...        negative\n",
       "3    @Jeannie29670552 @pastaroni3 @greeneyesone @ia...        negative\n",
       "4    @jordynpog if kookie can wear a mask, then so ...        negative\n",
       "..                                                 ...             ...\n",
       "395  ready for this mask shit to be over, i keep br...        negative\n",
       "396  Thinking about trying minoxidil again but it's...        negative\n",
       "397  @NicholasFerroni Mask and personal pen spray o...        negative\n",
       "398  I was gonna buy this really cute dress, but wh...        negative\n",
       "399  Tomorrow a lot of Minnesotans would also be at...        negative\n",
       "\n",
       "[400 rows x 2 columns]"
      ]
     },
     "execution_count": 15,
     "metadata": {},
     "output_type": "execute_result"
    }
   ],
   "source": [
    "#collects negative tweets from each query to be put into a dataframe\n",
    "temp_neg = []\n",
    "search_words = \"mask :( -filter:retweets\"\n",
    "date_since = \"2020-03-15\"\n",
    "list_keywords = [\"pandemic\", \"covid19\", \"quarantine\", \"coronavirus\"]\n",
    "#runs multiple search queries with one word from list_keywords in conjuction with the parameters set by search_words\n",
    "for word in list_keywords:\n",
    "    word += \" \"+ search_words\n",
    "    tweets_returned = tw.Cursor(api.search,\n",
    "                   q=search_words,\n",
    "                   lang=\"en\",\n",
    "                   since=date_since).items(100)\n",
    "    for tweet in tweets_returned:\n",
    "        temp_neg.append(tweet.text)\n",
    "    search_words = \"mask :( -filter:retweets\"\n",
    "\n",
    "#creates a dataframe for tweets deemed negative by Twitter API\n",
    "neg_content = pd.Series(temp_neg) \n",
    "tweets_df = pd.DataFrame({'tweet content': neg_content})\n",
    "label_negative = []\n",
    "for num in range(tweets_df.size):\n",
    "    label_negative.append(\"negative\")\n",
    "tweets_df['tweet sentiment'] = label_negative\n",
    "tweets_df.drop_duplicates(subset = 'tweet content')\n",
    "tweets_df"
   ]
  },
  {
   "cell_type": "code",
   "execution_count": 35,
   "metadata": {},
   "outputs": [
    {
     "data": {
      "text/plain": [
       "['Found a fitted face mask pattern that turned out fairly well. I tjink I shall make many more using the pattern :D #COVID19',\n",
       " '@LandslideCometh Guten tag, the unroll you asked for: @TrumpCanuck: #cdnpoli #COVID19 #COVID19AB I have a medical c… https://t.co/npR0isAnml',\n",
       " \"I wonder if it's allowable to drink #Corona #beer while wearing a #Covid19 #mask.   LOL :)\",\n",
       " \"Don't forget to wear a mask :)\\n#WearAMask #COVID19\",\n",
       " 'In case you needed another reason to wear a mask :)\\n#COVID19 #covid19awareness #bloomberg https://t.co/jgKvxUNc8v',\n",
       " \"New products in the shop:\\nhttps://t.co/Aph6KlXPSX\\nAlso available in tshirts, prints, bags, pillows,etc.\\nIf you'd li… https://t.co/VuqXYiKNwS\",\n",
       " \"Don't forget to wash your #Mask regularly. It can actually be an incredibly refreshing and enjoyable experience to… https://t.co/53OkG7B9D9\",\n",
       " 'Happy Monday!!! Some really cool masks out there now. Let’s see what you got! Share your mask pics with me :)… https://t.co/QGTkCv6UHB',\n",
       " 'A reminder on how to wear your Face Mask! :) Learn more about the importance of wearing masks here:… https://t.co/aU22f2Zedi',\n",
       " '@DrTedros I remember the first time I watched a video show how to wear a medical mask to prevent #coronavirus is th… https://t.co/HNFGOdzO1t',\n",
       " 'Saturday Morning Reminder!\\n\\n#MASKUP We want to stay on campus all year &amp; keep those around us safe! Wear a mask and… https://t.co/8a2aILZmMQ',\n",
       " 'Just sharing how not to wear a mask :) \\n#COVID19 #COVID19India https://t.co/9VCZcktig2',\n",
       " 'These are testing times as we battle #covid19, and we bring to you a simple course that will tell you everything yo… https://t.co/1QGY2sMmPA',\n",
       " 'Another set of donations to the @unicefnz COVID-19 Emergency Appeal :)\\n\\nThank you to all those who have bought a Ma… https://t.co/Ub3LLILv6n']"
      ]
     },
     "execution_count": 35,
     "metadata": {},
     "output_type": "execute_result"
    }
   ],
   "source": [
    "temp_pos = []\n",
    "search_words = \"mask :) -filter:retweets\"\n",
    "pos_tweets = tw.Cursor(api.search,\n",
    "                  q=new_search,\n",
    "                  lang=\"en\",\n",
    "                  since=date_since).items(100)\n",
    "\n",
    "for word in list_keywords:\n",
    "    search_words += word \n",
    "    tweets_returned = tw.Cursor(api.search,\n",
    "                   q=search_words,\n",
    "                   lang=\"en\",\n",
    "                   since=date_since).items(100)\n",
    "    for tweet in tweets_returned:\n",
    "        temp_neg.append(tweet.text)\n",
    "    search_words = \"mask :( -filter:retweets\"\n",
    "recent_pos = [tweet.text for tweet in pos_tweets]\n",
    "recent_pos"
   ]
  }
 ],
 "metadata": {
  "kernelspec": {
   "display_name": "Python 3",
   "language": "python",
   "name": "python3"
  },
  "language_info": {
   "codemirror_mode": {
    "name": "ipython",
    "version": 3
   },
   "file_extension": ".py",
   "mimetype": "text/x-python",
   "name": "python",
   "nbconvert_exporter": "python",
   "pygments_lexer": "ipython3",
   "version": "3.8.3"
  }
 },
 "nbformat": 4,
 "nbformat_minor": 4
}
