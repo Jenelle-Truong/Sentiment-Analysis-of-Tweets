{
 "cells": [
  {
   "cell_type": "code",
   "execution_count": 6,
   "metadata": {},
   "outputs": [],
   "source": [
    "import os\n",
    "import pandas as pd\n",
    "import tweepy as tw\n",
    "from dotenv import load_dotenv"
   ]
  },
  {
   "cell_type": "code",
   "execution_count": 4,
   "metadata": {},
   "outputs": [],
   "source": [
    "load_dotenv()\n",
    "consumer_key = os.getenv('CONSUMER_KEY')\n",
    "consumer_secret = os.getenv('CONSUMER_SECRET')\n",
    "access_token = os.getenv('ACCESS_TOKEN')\n",
    "access_secret = os.getenv('ACCESS_SECRET')"
   ]
  },
  {
   "cell_type": "code",
   "execution_count": 5,
   "metadata": {},
   "outputs": [],
   "source": [
    "auth = tw.OAuthHandler(consumer_key, consumer_secret)\n",
    "auth.set_access_token(access_token, access_secret)\n",
    "api = tw.API(auth)"
   ]
  },
  {
   "cell_type": "code",
   "execution_count": 1,
   "metadata": {
    "scrolled": true
   },
   "outputs": [
    {
     "ename": "NameError",
     "evalue": "name 'tw' is not defined",
     "output_type": "error",
     "traceback": [
      "\u001b[1;31m---------------------------------------------------------------------------\u001b[0m",
      "\u001b[1;31mNameError\u001b[0m                                 Traceback (most recent call last)",
      "\u001b[1;32m<ipython-input-1-323f03325c4d>\u001b[0m in \u001b[0;36m<module>\u001b[1;34m\u001b[0m\n\u001b[0;32m      7\u001b[0m \u001b[1;32mfor\u001b[0m \u001b[0mword\u001b[0m \u001b[1;32min\u001b[0m \u001b[0mlist_keywords\u001b[0m\u001b[1;33m:\u001b[0m\u001b[1;33m\u001b[0m\u001b[1;33m\u001b[0m\u001b[0m\n\u001b[0;32m      8\u001b[0m     \u001b[0mword\u001b[0m \u001b[1;33m+=\u001b[0m \u001b[1;34m\" \"\u001b[0m\u001b[1;33m+\u001b[0m \u001b[0msearch_words\u001b[0m\u001b[1;33m\u001b[0m\u001b[1;33m\u001b[0m\u001b[0m\n\u001b[1;32m----> 9\u001b[1;33m     tweets_returned = tw.Cursor(api.search,\n\u001b[0m\u001b[0;32m     10\u001b[0m                    \u001b[0mq\u001b[0m\u001b[1;33m=\u001b[0m\u001b[0msearch_words\u001b[0m\u001b[1;33m,\u001b[0m\u001b[1;33m\u001b[0m\u001b[1;33m\u001b[0m\u001b[0m\n\u001b[0;32m     11\u001b[0m                    \u001b[0mlang\u001b[0m\u001b[1;33m=\u001b[0m\u001b[1;34m\"en\"\u001b[0m\u001b[1;33m,\u001b[0m\u001b[1;33m\u001b[0m\u001b[1;33m\u001b[0m\u001b[0m\n",
      "\u001b[1;31mNameError\u001b[0m: name 'tw' is not defined"
     ]
    }
   ],
   "source": [
    "#collects negative tweets from each query to be put into a dataframe\n",
    "temp_neg = []\n",
    "search_words = \"mask :( -filter:retweets\"\n",
    "date_since = \"2020-03-15\"\n",
    "list_keywords = [\"pandemic\", \"covid19\", \"quarantine\", \"coronavirus\"]\n",
    "#runs multiple search queries with one word from list_keywords in conjuction with the parameters set by search_words\n",
    "for word in list_keywords:\n",
    "    word += \" \"+ search_words\n",
    "    tweets_returned = tw.Cursor(api.search,\n",
    "                   q=search_words,\n",
    "                   lang=\"en\",\n",
    "                   since=date_since).items(100)\n",
    "    for tweet in tweets_returned:\n",
    "        temp_neg.append(tweet.text)\n",
    "    search_words = \"mask :( -filter:retweets\"\n",
    "\n",
    "#creates a dataframe for tweets deemed negative by Twitter API\n",
    "neg_content = pd.Series(temp_neg) \n",
    "tweets_df = pd.DataFrame({'tweet content': neg_content})\n",
    "label_negative = []\n",
    "for num in range(tweets_df.size):\n",
    "    label_negative.append(\"negative\")\n",
    "tweets_df['tweet sentiment'] = label_negative\n",
    "tweets_df.drop_duplicates(subset = 'tweet content')\n",
    "tweets_df"
   ]
  },
  {
   "cell_type": "code",
   "execution_count": 35,
   "metadata": {},
   "outputs": [
    {
     "data": {
      "text/plain": [
       "['Found a fitted face mask pattern that turned out fairly well. I tjink I shall make many more using the pattern :D #COVID19',\n",
       " '@LandslideCometh Guten tag, the unroll you asked for: @TrumpCanuck: #cdnpoli #COVID19 #COVID19AB I have a medical c… https://t.co/npR0isAnml',\n",
       " \"I wonder if it's allowable to drink #Corona #beer while wearing a #Covid19 #mask.   LOL :)\",\n",
       " \"Don't forget to wear a mask :)\\n#WearAMask #COVID19\",\n",
       " 'In case you needed another reason to wear a mask :)\\n#COVID19 #covid19awareness #bloomberg https://t.co/jgKvxUNc8v',\n",
       " \"New products in the shop:\\nhttps://t.co/Aph6KlXPSX\\nAlso available in tshirts, prints, bags, pillows,etc.\\nIf you'd li… https://t.co/VuqXYiKNwS\",\n",
       " \"Don't forget to wash your #Mask regularly. It can actually be an incredibly refreshing and enjoyable experience to… https://t.co/53OkG7B9D9\",\n",
       " 'Happy Monday!!! Some really cool masks out there now. Let’s see what you got! Share your mask pics with me :)… https://t.co/QGTkCv6UHB',\n",
       " 'A reminder on how to wear your Face Mask! :) Learn more about the importance of wearing masks here:… https://t.co/aU22f2Zedi',\n",
       " '@DrTedros I remember the first time I watched a video show how to wear a medical mask to prevent #coronavirus is th… https://t.co/HNFGOdzO1t',\n",
       " 'Saturday Morning Reminder!\\n\\n#MASKUP We want to stay on campus all year &amp; keep those around us safe! Wear a mask and… https://t.co/8a2aILZmMQ',\n",
       " 'Just sharing how not to wear a mask :) \\n#COVID19 #COVID19India https://t.co/9VCZcktig2',\n",
       " 'These are testing times as we battle #covid19, and we bring to you a simple course that will tell you everything yo… https://t.co/1QGY2sMmPA',\n",
       " 'Another set of donations to the @unicefnz COVID-19 Emergency Appeal :)\\n\\nThank you to all those who have bought a Ma… https://t.co/Ub3LLILv6n']"
      ]
     },
     "execution_count": 35,
     "metadata": {},
     "output_type": "execute_result"
    }
   ],
   "source": [
    "temp_pos = []\n",
    "search_words = \"mask :) -filter:retweets\"\n",
    "pos_tweets = tw.Cursor(api.search,\n",
    "                  q=new_search,\n",
    "                  lang=\"en\",\n",
    "                  since=date_since).items(100)\n",
    "\n",
    "for word in list_keywords:\n",
    "    search_words += word \n",
    "    tweets_returned = tw.Cursor(api.search,\n",
    "                   q=search_words,\n",
    "                   lang=\"en\",\n",
    "                   since=date_since).items(100)\n",
    "    for tweet in tweets_returned:\n",
    "        temp_neg.append(tweet.text)\n",
    "    search_words = \"mask :( -filter:retweets\"\n",
    "recent_pos = [tweet.text for tweet in pos_tweets]\n",
    "recent_pos"
   ]
  }
 ],
 "metadata": {
  "kernelspec": {
   "display_name": "Python 3",
   "language": "python",
   "name": "python3"
  },
  "language_info": {
   "codemirror_mode": {
    "name": "ipython",
    "version": 3
   },
   "file_extension": ".py",
   "mimetype": "text/x-python",
   "name": "python",
   "nbconvert_exporter": "python",
   "pygments_lexer": "ipython3",
   "version": "3.8.3"
  }
 },
 "nbformat": 4,
 "nbformat_minor": 4
}
